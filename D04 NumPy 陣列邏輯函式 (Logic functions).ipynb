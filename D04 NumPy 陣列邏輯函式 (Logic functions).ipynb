{
 "cells": [
  {
   "cell_type": "markdown",
   "metadata": {
    "id": "XYM0mQCi2WTY"
   },
   "source": [
    "作業目標：<br>\n",
    "熟悉邏輯運算<br>\n",
    "\n",
    "作業重點：<br>\n",
    "五大類邏輯函式與其對應的函式操作\n",
    "\n",
    "題目：<br>\n",
    "english_score = np.array([55,89,76,65,48,70])<br>\n",
    "math_score = np.array([60,85,60,68,55,60])<br>\n",
    "chinese_score = np.array([65,90,82,72,66,77])<br>\n",
    "上3列共六位同學的英文、數學、國文成績，第一個元素代表第一位同學，舉例第一位同學英文55分、數學60分、國文65分，運用上列數據回答下列問題。<br>\n",
    "1. 有多少學生英文成績比數學成績高?\n",
    "2. 是否全班同學最高分都是國文?"
   ]
  },
  {
   "cell_type": "code",
   "execution_count": 12,
   "metadata": {
    "id": "owy7B7Us2ZEM"
   },
   "outputs": [],
   "source": [
    "import numpy as np\n",
    "\n",
    "english_score = np.array([55,89,76,65,48,70])\n",
    "math_score = np.array([60,85,60,68,55,60])\n",
    "chinese_score = np.array([65,90,82,72,66,77])"
   ]
  },
  {
   "cell_type": "code",
   "execution_count": 13,
   "metadata": {
    "executionInfo": {
     "elapsed": 818,
     "status": "ok",
     "timestamp": 1609854133025,
     "user": {
      "displayName": "献竤黃",
      "photoUrl": "",
      "userId": "07529243043474362942"
     },
     "user_tz": -480
    },
    "id": "i0RGMNH72xkh"
   },
   "outputs": [
    {
     "data": {
      "text/plain": [
       "3"
      ]
     },
     "execution_count": 13,
     "metadata": {},
     "output_type": "execute_result"
    }
   ],
   "source": [
    "#1.有多少學生英文成績比數學成績高?\n",
    "np.sum(np.greater(english_score, math_score))"
   ]
  },
  {
   "cell_type": "code",
   "execution_count": 48,
   "metadata": {
    "executionInfo": {
     "elapsed": 1269,
     "status": "ok",
     "timestamp": 1609854133487,
     "user": {
      "displayName": "献竤黃",
      "photoUrl": "",
      "userId": "07529243043474362942"
     },
     "user_tz": -480
    },
    "id": "F4Hzk1HM8pBZ"
   },
   "outputs": [
    {
     "name": "stdout",
     "output_type": "stream",
     "text": [
      "每個人的所有科目分數：\n",
      " [[55 89 76 65 48 70]\n",
      " [60 85 60 68 55 60]\n",
      " [65 90 82 72 66 77]]\n",
      "每個人所有科目最高分數：\n",
      " [65 90 82 72 66 77]\n",
      "每個人最高分科目是否為國文？\n",
      " [ True  True  True  True  True  True]\n",
      "判斷全班同學最高分是否都是國文？（方法一）\n"
     ]
    },
    {
     "data": {
      "text/plain": [
       "True"
      ]
     },
     "execution_count": 48,
     "metadata": {},
     "output_type": "execute_result"
    }
   ],
   "source": [
    "#2.是否全班同學最高分都是國文?\n",
    "\n",
    "## 合併所有科目，並找出所有人的最高分數\n",
    "total_scores = np.vstack((english_score, math_score, chinese_score))\n",
    "print('每個人的所有科目分數：\\n', total_scores)\n",
    "\n",
    "max_score = total.max(0)\n",
    "print('每個人所有科目最高分數：\\n', max_score)\n",
    "\n",
    "## 01\n",
    "## 判斷每個人的最高分是否為國文\n",
    "highest_score_is_chinese = np.logical_and(max_score, chinese_score)\n",
    "print('每個人最高分科目是否為國文？\\n', highest_score_is_chinese)\n",
    "\n",
    "## 判斷全班同學最高分是否都是國文\n",
    "print('判斷全班同學最高分是否都是國文？（方法一）')\n",
    "np.all(highest_score_is_chinese)"
   ]
  },
  {
   "cell_type": "code",
   "execution_count": 65,
   "metadata": {
    "id": "rMeW74sqyIcy"
   },
   "outputs": [
    {
     "name": "stdout",
     "output_type": "stream",
     "text": [
      "判斷全班同學最高分是否都是國文？（方法二）\n"
     ]
    },
    {
     "data": {
      "text/plain": [
       "True"
      ]
     },
     "execution_count": 65,
     "metadata": {},
     "output_type": "execute_result"
    }
   ],
   "source": [
    "## 02\n",
    "print('判斷全班同學最高分是否都是國文？（方法二）')\n",
    "np.array_equal(max_score, chinese_score)"
   ]
  }
 ],
 "metadata": {
  "colab": {
   "authorship_tag": "ABX9TyMvnUzt7pnXvEj6Wk0LCRLY",
   "collapsed_sections": [],
   "name": "作業Hong題目.ipynb",
   "provenance": []
  },
  "kernelspec": {
   "display_name": "Python 3",
   "language": "python",
   "name": "python3"
  },
  "language_info": {
   "codemirror_mode": {
    "name": "ipython",
    "version": 3
   },
   "file_extension": ".py",
   "mimetype": "text/x-python",
   "name": "python",
   "nbconvert_exporter": "python",
   "pygments_lexer": "ipython3",
   "version": "3.8.5"
  }
 },
 "nbformat": 4,
 "nbformat_minor": 1
}
