{
 "cells": [
  {
   "cell_type": "markdown",
   "metadata": {
    "id": "rY2oyzUo2wKZ"
   },
   "source": [
    "正常的人耳能夠聽到最微弱的聲音叫作「聽覺閾」為 20 個微巴斯卡 (縮寫為 μPa) ，以聲壓 20μPa 定義為 0 分貝，表示 V0 為 20μPa，其餘聲壓為 V1(微巴斯卡)，例如將 V1 帶入 200μPa，V0 為 20μPa，可以得到 20GdB。\n",
    "\n",
    "作業目標：\n",
    "嘗試練習log的函式並應用\n",
    "\n",
    "作業重點：\n",
    "1. 學員需要複習log的轉換方式\n",
    "2. 熟悉運用指數函數以及對數函數\n",
    "\n",
    "題目：\n",
    "\n",
    "運用投影片中的分貝公式回答下列問題。\n",
    "1. 正常的談話的聲壓為20000微巴斯卡，請問多少分貝?\n",
    "2. 30分貝的聲壓會是50分貝的幾倍?"
   ]
  },
  {
   "cell_type": "code",
   "execution_count": 5,
   "metadata": {
    "id": "SKVoN9E82yQi"
   },
   "outputs": [],
   "source": [
    "import numpy as np"
   ]
  },
  {
   "cell_type": "code",
   "execution_count": 9,
   "metadata": {
    "id": "knBzIEbisYO_"
   },
   "outputs": [
    {
     "data": {
      "text/plain": [
       "60.0"
      ]
     },
     "execution_count": 9,
     "metadata": {},
     "output_type": "execute_result"
    }
   ],
   "source": [
    "#1.正常的談話的聲壓為20000微巴斯卡，請問多少分貝?\n",
    "#請寫下程式\n",
    "\n",
    "V1 = 20000\n",
    "V0 = 20\n",
    "Gdb = 20*np.log10(V1/V0)\n",
    "Gdb"
   ]
  },
  {
   "cell_type": "code",
   "execution_count": null,
   "metadata": {},
   "outputs": [],
   "source": [
    "#2.30分貝的聲壓會是50分貝的幾倍?\n",
    "#公式移項過後可以得到 V1 = ?\n",
    "#請寫下程式"
   ]
  },
  {
   "cell_type": "markdown",
   "metadata": {
    "id": "5Vknqg8esbl_"
   },
   "source": [
    "#### 推導公式\n",
    "=> 30 = 20 * np.log10(v1/20)<br>\n",
    "=> 30/20 = np.log10(v1/20)<br>\n",
    "=> 1.5 = np.log10(v1/20)<br>\n",
    "=> 10^1.5 = v1/20<br>\n",
    "=> 10^1.5*20 = v1<br>\n",
    "=> 10^(分貝數/20) * 20 = v1(聲壓)<br>"
   ]
  },
  {
   "cell_type": "code",
   "execution_count": 13,
   "metadata": {
    "id": "LjGnv4Q-1t7u"
   },
   "outputs": [
    {
     "name": "stdout",
     "output_type": "stream",
     "text": [
      "632.4555320336758\n"
     ]
    }
   ],
   "source": [
    "V1Of30 = np.power(10, 30/20)*20\n",
    "print(V1Of30)"
   ]
  },
  {
   "cell_type": "code",
   "execution_count": 14,
   "metadata": {},
   "outputs": [
    {
     "name": "stdout",
     "output_type": "stream",
     "text": [
      "6324.555320336759\n"
     ]
    }
   ],
   "source": [
    "V1Of50 = np.power(10, 50/20)*20\n",
    "print(V1Of50)"
   ]
  },
  {
   "cell_type": "code",
   "execution_count": 15,
   "metadata": {},
   "outputs": [
    {
     "data": {
      "text/plain": [
       "10.000000000000002"
      ]
     },
     "execution_count": 15,
     "metadata": {},
     "output_type": "execute_result"
    }
   ],
   "source": [
    "V1Of50 / V1Of30"
   ]
  }
 ],
 "metadata": {
  "colab": {
   "authorship_tag": "ABX9TyNuy8nFyZsCqfcHKKs2ys9H",
   "collapsed_sections": [],
   "name": "作業_Hong題目.ipynb",
   "provenance": []
  },
  "kernelspec": {
   "display_name": "Python 3",
   "language": "python",
   "name": "python3"
  },
  "language_info": {
   "codemirror_mode": {
    "name": "ipython",
    "version": 3
   },
   "file_extension": ".py",
   "mimetype": "text/x-python",
   "name": "python",
   "nbconvert_exporter": "python",
   "pygments_lexer": "ipython3",
   "version": "3.8.5"
  }
 },
 "nbformat": 4,
 "nbformat_minor": 1
}
